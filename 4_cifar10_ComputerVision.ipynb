{
  "nbformat": 4,
  "nbformat_minor": 0,
  "metadata": {
    "colab": {
      "provenance": [],
      "authorship_tag": "ABX9TyPtLVry/i6GzCxTp/LmaWU+",
      "include_colab_link": true
    },
    "kernelspec": {
      "name": "python3",
      "display_name": "Python 3"
    },
    "language_info": {
      "name": "python"
    }
  },
  "cells": [
    {
      "cell_type": "markdown",
      "metadata": {
        "id": "view-in-github",
        "colab_type": "text"
      },
      "source": [
        "<a href=\"https://colab.research.google.com/github/mrhamedani/Deep-learning-projects-Tensorflow/blob/main/4_cifar10_ComputerVision.ipynb\" target=\"_parent\"><img src=\"https://colab.research.google.com/assets/colab-badge.svg\" alt=\"Open In Colab\"/></a>"
      ]
    },
    {
      "cell_type": "code",
      "execution_count": 1,
      "metadata": {
        "id": "8pq40tLPqxzU"
      },
      "outputs": [],
      "source": [
        "import numpy as np\n",
        "import pandas as pd\n",
        "import matplotlib.pyplot as plt\n",
        "import seaborn as sns\n",
        "import tensorflow as tf"
      ]
    },
    {
      "cell_type": "code",
      "source": [
        "(x_train, y_train), (x_test, y_test) = tf.keras.datasets.cifar10.load_data() # datset show image(car, dog, cat, etc) and label for each image - classification\n",
        "x_train= x_train / 255.0\n",
        "x_test=  x_test / 255.0"
      ],
      "metadata": {
        "colab": {
          "base_uri": "https://localhost:8080/"
        },
        "id": "-LlDEvJIq7N4",
        "outputId": "08b45f27-8d69-4781-f92e-3337baf4b631"
      },
      "execution_count": 2,
      "outputs": [
        {
          "output_type": "stream",
          "name": "stdout",
          "text": [
            "Downloading data from https://www.cs.toronto.edu/~kriz/cifar-10-python.tar.gz\n",
            "\u001b[1m170498071/170498071\u001b[0m \u001b[32m━━━━━━━━━━━━━━━━━━━━\u001b[0m\u001b[37m\u001b[0m \u001b[1m3s\u001b[0m 0us/step\n"
          ]
        }
      ]
    },
    {
      "cell_type": "markdown",
      "source": [
        "**Convolutional Layers in CNN: Conv2D & MaxPooling2D**\n",
        "\n",
        "**Conv2D Layer**\n",
        "\n",
        "Conv2D is a convolutional layer that applies filters (kernels) to an input image to extract spatial features like edges and textures.\n",
        "\n",
        "*How it works?*\n",
        "\n",
        "A small filter (kernel) slides over the input image.\n",
        "\n",
        "Performs element-wise multiplication and sums up values.\n",
        "\n",
        "Outputs a feature map capturing key patterns.\n",
        "\n",
        "*Key Parameters:*\n",
        "\n",
        "filters: Number of feature detectors.\n",
        "\n",
        "kernel_size: Size of the kernel (e.g., 3×3).\n",
        "\n",
        "activation: Common choices include 'relu', 'sigmoid'.\n",
        "\n",
        "\n",
        "**MaxPooling2D Layer**\n",
        "\n",
        "MaxPooling2D reduces the spatial dimensions of a feature map while retaining important information, improving efficiency and reducing overfitting.\n",
        "\n",
        "*How it works?*\n",
        "\n",
        "A window (e.g., 2×2) moves over the feature map.\n",
        "\n",
        "Max value from each window is kept.\n",
        "\n",
        "Output is a smaller feature map.\n",
        "\n",
        "*Key Parameters:*\n",
        "\n",
        "pool_size: Window size (e.g., (2,2)).\n",
        "\n",
        "strides: Step size (default: same as pool_size).\n",
        "\n"
      ],
      "metadata": {
        "id": "kYscqAloxNu_"
      }
    },
    {
      "cell_type": "code",
      "source": [
        "model = tf.keras.models.Sequential([tf.keras.layers.Input(shape=(32,32,3)),\n",
        "  tf.keras.layers.Conv2D(filters= 6 , kernel_size= 5 ,activation='relu'), # filter size 5x5 & 6 filters\n",
        "  tf.keras.layers.MaxPooling2D(),\n",
        "  tf.keras.layers.Conv2D(filters= 16 , kernel_size= 5, activation='relu'), # filter size 5x5 & 16 filters\n",
        "  tf.keras.layers.MaxPooling2D(),\n",
        "  tf.keras.layers.Flatten(),\n",
        "  tf.keras.layers.Dense(units= 120 , activation='relu'),\n",
        "  tf.keras.layers.Dense(units= 84 , activation='relu'),\n",
        "  tf.keras.layers.Dense(units= 10 , activation='softmax')]) # output 10 classes  # softmax is for classification\n",
        "\n",
        "\n",
        "model.compile(optimizer= 'adam' , loss= 'categorical_crossentropy' , metrics= ['accuracy'])"
      ],
      "metadata": {
        "id": "wp7sqe4BrNNh"
      },
      "execution_count": 7,
      "outputs": []
    },
    {
      "cell_type": "code",
      "source": [
        "y_train_one_hot = tf.keras.utils.to_categorical(y_train, num_classes=10) # utilize one hot encoding\n",
        "y_test_one_hot = tf.keras.utils.to_categorical(y_test, num_classes=10)"
      ],
      "metadata": {
        "id": "2HKWMW3Ot9KU"
      },
      "execution_count": 8,
      "outputs": []
    },
    {
      "cell_type": "code",
      "source": [
        "history = model.fit(x_train, y_train_one_hot, epochs=10, validation_data=(x_test, y_test_one_hot))"
      ],
      "metadata": {
        "colab": {
          "base_uri": "https://localhost:8080/"
        },
        "id": "Dc8qF4iPvWCg",
        "outputId": "f33267ec-9679-4ddc-e2a0-410f4534a25e"
      },
      "execution_count": 11,
      "outputs": [
        {
          "output_type": "stream",
          "name": "stdout",
          "text": [
            "Epoch 1/10\n",
            "\u001b[1m1563/1563\u001b[0m \u001b[32m━━━━━━━━━━━━━━━━━━━━\u001b[0m\u001b[37m\u001b[0m \u001b[1m38s\u001b[0m 24ms/step - accuracy: 0.4753 - loss: 1.4487 - val_accuracy: 0.5315 - val_loss: 1.3094\n",
            "Epoch 2/10\n",
            "\u001b[1m1563/1563\u001b[0m \u001b[32m━━━━━━━━━━━━━━━━━━━━\u001b[0m\u001b[37m\u001b[0m \u001b[1m41s\u001b[0m 24ms/step - accuracy: 0.5407 - loss: 1.2891 - val_accuracy: 0.5505 - val_loss: 1.2554\n",
            "Epoch 3/10\n",
            "\u001b[1m1563/1563\u001b[0m \u001b[32m━━━━━━━━━━━━━━━━━━━━\u001b[0m\u001b[37m\u001b[0m \u001b[1m40s\u001b[0m 24ms/step - accuracy: 0.5716 - loss: 1.2055 - val_accuracy: 0.5644 - val_loss: 1.2204\n",
            "Epoch 4/10\n",
            "\u001b[1m1563/1563\u001b[0m \u001b[32m━━━━━━━━━━━━━━━━━━━━\u001b[0m\u001b[37m\u001b[0m \u001b[1m42s\u001b[0m 24ms/step - accuracy: 0.5991 - loss: 1.1344 - val_accuracy: 0.5669 - val_loss: 1.2055\n",
            "Epoch 5/10\n",
            "\u001b[1m1563/1563\u001b[0m \u001b[32m━━━━━━━━━━━━━━━━━━━━\u001b[0m\u001b[37m\u001b[0m \u001b[1m37s\u001b[0m 24ms/step - accuracy: 0.6178 - loss: 1.0758 - val_accuracy: 0.5811 - val_loss: 1.1758\n",
            "Epoch 6/10\n",
            "\u001b[1m1563/1563\u001b[0m \u001b[32m━━━━━━━━━━━━━━━━━━━━\u001b[0m\u001b[37m\u001b[0m \u001b[1m41s\u001b[0m 24ms/step - accuracy: 0.6341 - loss: 1.0348 - val_accuracy: 0.5835 - val_loss: 1.2084\n",
            "Epoch 7/10\n",
            "\u001b[1m1563/1563\u001b[0m \u001b[32m━━━━━━━━━━━━━━━━━━━━\u001b[0m\u001b[37m\u001b[0m \u001b[1m40s\u001b[0m 23ms/step - accuracy: 0.6500 - loss: 0.9852 - val_accuracy: 0.5971 - val_loss: 1.1462\n",
            "Epoch 8/10\n",
            "\u001b[1m1563/1563\u001b[0m \u001b[32m━━━━━━━━━━━━━━━━━━━━\u001b[0m\u001b[37m\u001b[0m \u001b[1m41s\u001b[0m 24ms/step - accuracy: 0.6655 - loss: 0.9462 - val_accuracy: 0.5974 - val_loss: 1.1770\n",
            "Epoch 9/10\n",
            "\u001b[1m1563/1563\u001b[0m \u001b[32m━━━━━━━━━━━━━━━━━━━━\u001b[0m\u001b[37m\u001b[0m \u001b[1m41s\u001b[0m 23ms/step - accuracy: 0.6831 - loss: 0.9044 - val_accuracy: 0.6037 - val_loss: 1.1368\n",
            "Epoch 10/10\n",
            "\u001b[1m1563/1563\u001b[0m \u001b[32m━━━━━━━━━━━━━━━━━━━━\u001b[0m\u001b[37m\u001b[0m \u001b[1m40s\u001b[0m 26ms/step - accuracy: 0.6914 - loss: 0.8777 - val_accuracy: 0.5956 - val_loss: 1.1958\n"
          ]
        }
      ]
    },
    {
      "cell_type": "code",
      "source": [
        "plt.plot(history.history['accuracy'], label='accuracy')\n",
        "plt.plot(history.history['val_accuracy'], label = 'val_accuracy')\n",
        "plt.xlabel('Epoch')\n",
        "plt.ylabel('Accuracy')"
      ],
      "metadata": {
        "colab": {
          "base_uri": "https://localhost:8080/",
          "height": 467
        },
        "id": "OTDKH3E6vevS",
        "outputId": "b3e5c353-7dcf-43ca-c2e8-58dfe7b06259"
      },
      "execution_count": 12,
      "outputs": [
        {
          "output_type": "execute_result",
          "data": {
            "text/plain": [
              "Text(0, 0.5, 'Accuracy')"
            ]
          },
          "metadata": {},
          "execution_count": 12
        },
        {
          "output_type": "display_data",
          "data": {
            "text/plain": [
              "<Figure size 640x480 with 1 Axes>"
            ],
            "image/png": "[encoded data removed]"
          },
          "metadata": {}
        }
      ]
    }
  ]
}