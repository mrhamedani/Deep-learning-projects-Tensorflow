{
  "nbformat": 4,
  "nbformat_minor": 0,
  "metadata": {
    "colab": {
      "provenance": [],
      "authorship_tag": "ABX9TyPGQR3V5idUOwahQTeVEMut",
      "include_colab_link": true
    },
    "kernelspec": {
      "name": "python3",
      "display_name": "Python 3"
    },
    "language_info": {
      "name": "python"
    }
  },
  "cells": [
    {
      "cell_type": "markdown",
      "metadata": {
        "id": "view-in-github",
        "colab_type": "text"
      },
      "source": [
        "<a href=\"https://colab.research.google.com/github/mrhamedani/Deep-learning-projects-Tensorflow/blob/main/5_imdb_RNN(LSTM)_ipynb.ipynb\" target=\"_parent\"><img src=\"https://colab.research.google.com/assets/colab-badge.svg\" alt=\"Open In Colab\"/></a>"
      ]
    },
    {
      "cell_type": "markdown",
      "source": [
        "# RNN(LSTM)\n",
        "Recurrent Neural Network or RNN are models that are mostly used for nlp (while CNNs were for computer vision)\n",
        "\n",
        "RNNs have two basic problems: Vanishing/Exploding Gradient, which makes W either too small or too large.\n",
        "\n",
        "Usually, this model is not used, and instead RNN is used to improve LSTM or Long Short-Term Memory.\n",
        "\n",
        "Note: sigmoid or tanh is used instead of Relu in RNNs"
      ],
      "metadata": {
        "id": "0wP1C6jZq4jS"
      }
    },
    {
      "cell_type": "markdown",
      "source": [
        "This dataset contains people's opinions about movies, and our goal is to do binary classification and distinguish positive and negative opinions."
      ],
      "metadata": {
        "id": "z17YMKNDwxJ1"
      }
    },
    {
      "cell_type": "code",
      "source": [
        "!wget https://ai.stanford.edu/~amaas/data/sentiment/aclImdb_v1.tar.gz   # download dataset from link\n",
        "!tar -xvzf aclImdb_v1.tar.gz # extract dataset"
      ],
      "metadata": {
        "id": "CxEtleaPwK2w"
      },
      "execution_count": null,
      "outputs": []
    },
    {
      "cell_type": "code",
      "execution_count": 30,
      "metadata": {
        "colab": {
          "base_uri": "https://localhost:8080/",
          "height": 399
        },
        "id": "a6tzApXdlha2",
        "outputId": "8427e1f7-9f2a-495b-c3c1-3abb4b5e3b20"
      },
      "outputs": [
        {
          "output_type": "error",
          "ename": "ModuleNotFoundError",
          "evalue": "No module named 'tensorflow.metrics'",
          "traceback": [
            "\u001b[0;31m---------------------------------------------------------------------------\u001b[0m",
            "\u001b[0;31mModuleNotFoundError\u001b[0m                       Traceback (most recent call last)",
            "\u001b[0;32m<ipython-input-30-2aa5ce236873>\u001b[0m in \u001b[0;36m<cell line: 0>\u001b[0;34m()\u001b[0m\n\u001b[1;32m      4\u001b[0m \u001b[0;32mimport\u001b[0m \u001b[0mmatplotlib\u001b[0m\u001b[0;34m.\u001b[0m\u001b[0mpyplot\u001b[0m \u001b[0;32mas\u001b[0m \u001b[0mplt\u001b[0m\u001b[0;34m\u001b[0m\u001b[0;34m\u001b[0m\u001b[0m\n\u001b[1;32m      5\u001b[0m \u001b[0;32mfrom\u001b[0m \u001b[0mtensorflow\u001b[0m\u001b[0;34m.\u001b[0m\u001b[0mkeras\u001b[0m \u001b[0;32mimport\u001b[0m \u001b[0mlayers\u001b[0m\u001b[0;34m\u001b[0m\u001b[0;34m\u001b[0m\u001b[0m\n\u001b[0;32m----> 6\u001b[0;31m \u001b[0;32mfrom\u001b[0m \u001b[0mtensorflow\u001b[0m\u001b[0;34m.\u001b[0m\u001b[0mmetrics\u001b[0m \u001b[0;32mimport\u001b[0m \u001b[0mAccuracy\u001b[0m\u001b[0;34m\u001b[0m\u001b[0;34m\u001b[0m\u001b[0m\n\u001b[0m\u001b[1;32m      7\u001b[0m \u001b[0;32mimport\u001b[0m \u001b[0mpandas\u001b[0m \u001b[0;32mas\u001b[0m \u001b[0mpd\u001b[0m\u001b[0;34m\u001b[0m\u001b[0;34m\u001b[0m\u001b[0m\n\u001b[1;32m      8\u001b[0m \u001b[0;32mimport\u001b[0m \u001b[0mre\u001b[0m\u001b[0;34m\u001b[0m\u001b[0;34m\u001b[0m\u001b[0m\n",
            "\u001b[0;31mModuleNotFoundError\u001b[0m: No module named 'tensorflow.metrics'",
            "",
            "\u001b[0;31m---------------------------------------------------------------------------\u001b[0;32m\nNOTE: If your import is failing due to a missing package, you can\nmanually install dependencies using either !pip or !apt.\n\nTo view examples of installing some common dependencies, click the\n\"Open Examples\" button below.\n\u001b[0;31m---------------------------------------------------------------------------\u001b[0m\n"
          ],
          "errorDetails": {
            "actions": [
              {
                "action": "open_url",
                "actionText": "Open Examples",
                "url": "/notebooks/snippets/importing_libraries.ipynb"
              }
            ]
          }
        }
      ],
      "source": [
        "import numpy as np\n",
        "import tensorflow as tf\n",
        "from tensorflow import keras\n",
        "import matplotlib.pyplot as plt\n",
        "from tensorflow.keras import layers\n",
        "import pandas as pd\n",
        "import re\n",
        "import string"
      ]
    },
    {
      "cell_type": "code",
      "source": [
        "batch_size = 32\n",
        "seed = 42"
      ],
      "metadata": {
        "id": "BKI1cqd-uJhG"
      },
      "execution_count": 3,
      "outputs": []
    },
    {
      "cell_type": "code",
      "source": [
        "raw_train_ds = tf.keras.utils.text_dataset_from_directory('aclImdb/train',batch_size=batch_size,validation_split=0.2,subset='training',seed=seed)\n",
        "# Delete the unsup directory in aclImdb/train\n",
        "raw_val_ds = tf.keras.utils.text_dataset_from_directory('aclImdb/train',batch_size=batch_size,validation_split=0.2,subset='validation',seed=seed)\n",
        "raw_test_ds = tf.keras.utils.text_dataset_from_directory('aclImdb/test',batch_size=batch_size)\n"
      ],
      "metadata": {
        "colab": {
          "base_uri": "https://localhost:8080/"
        },
        "id": "Fh8N6OxHuaiV",
        "outputId": "2d4d6b4d-fc5a-4395-963b-b41d7c8bae8c"
      },
      "execution_count": 7,
      "outputs": [
        {
          "output_type": "stream",
          "name": "stdout",
          "text": [
            "Found 25000 files belonging to 2 classes.\n",
            "Using 20000 files for training.\n",
            "Found 25000 files belonging to 2 classes.\n",
            "Using 5000 files for validation.\n",
            "Found 25000 files belonging to 2 classes.\n"
          ]
        }
      ]
    },
    {
      "cell_type": "code",
      "source": [
        "print(raw_train_ds.class_names)  # To see the names of the classes\n",
        "print(list(raw_train_ds.take(1)))  # for To see data  or one batch (include 32 elements)  # 0 is negative and 1 is positive"
      ],
      "metadata": {
        "colab": {
          "base_uri": "https://localhost:8080/"
        },
        "id": "VM8qEGTIz4NV",
        "outputId": "243a648f-9864-4ad0-f4df-e2dcac436a46"
      },
      "execution_count": 16,
      "outputs": [
        {
          "output_type": "stream",
          "name": "stdout",
          "text": [
            "['neg', 'pos']\n",
            "[(<tf.Tensor: shape=(32,), dtype=string, numpy=\n",
            "array([b'Belmondo is a tough cop. He goes after a big-time drug dealer (played by Henry Silva, normally a great villain - see \"Sharky\\'s Machine\"; but here he is clearly dubbed, and because of that he lacks his usual charisma). He goes to the scuzziest places of Paris and Marseilles, asks for some names, beats up some people, gets the names, goes to more scuzzy places, asks for more names, beats up more people, etc. The whole movie is punch after punch after punch. It seems that the people who made it had no other ambition than to create the French equivalent of \"Dirty Harry\". Belmondo, who was 50 here, does perform some good stunts at the beginning; apart from those, \"Le Marginal\" is a violent, episodic, trite, shallow and forgettable cop movie. (*1/2)',\n",
            "       b'Wow. The only people reviewing this positively are the Carpenter apologists. I know a lot of those. The guys that\\'ll watch John Carpenter squat on celluloid and pinch out a movie and proclaim it a masterwork of horror. This \"movie\" is utter crap. It looks and sounds like a porno (good lord, the soundtrack is awful...), and has sub-par porn acting, which is shocking, because normally Ron Perlman is really a very good actor. I honestly have no idea what Carpenter was thinking when making this. Most likely \"Beans, beans, beans..\" until somebody fed him and rolled him up into a blanket for the day... They say nothing about the abortion debate whatsoever, when they could have had a very interesting central theme (how do religious zealot anti-abortionists feel when it\\'s the devil\\'s baby?) but instead they chose to have Ron Perlman and his terribly acted kids kill a bunch of people and have the horribly cast doctors try to calm the hysterically bad pregnant girl. Not a single person from this episode or what have you should come away unscathed. It\\'s just awful. Like, Plan 9 From Outerspace awful. Like, good god please would somebody turn it off before I soil myself awful. Try watching this and The Thing in the same day and your mind will implode.',\n",
            "       b'Even though it has one of the standard \"Revenge Price Plots,\" this film is my favorite of Vincent Price\\'s work. Gallico has that quality that is missing in so many horror film characters- likeability. When you watch it, you feel for him, you feel his frustration, the injustices against him, and you cheer him on when he goes for vengeance, even though he frightens you a little with his original fury. As the film goes on, his character becomes tragic. He\\'s committed his murder, but now he must kill to cover that up. And again to cover that one up. And again... your stomach sinks with his soul as it goes down its spiral- like watching a beloved brother turn into a hood. Even if the revenge story is of old, the plot devices themselves are original- Gallico uses his tricks to kill in more and more inventive ways. A shame this one isn\\'t available for home veiwing.',\n",
            "       b\"This is another one of those movies that could have been great. The basic premise is good - immortal cat people who kill to live, etc. - sort of a variation on the vampire concept.<br /><br />The thing that makes it all fall apart is the total recklessness of the main characters. Even sociopaths know that you need to keep a low profile if you want to survive - look how long it took to catch the Unibomber, and that was because a family member figured it out.<br /><br />By contrast, the kid (and to a lesser extent, the mom) behave as though they're untouchable. The kid kills without a thought for not leaving evidence or a trail or a living witness. How these people managed to stay alive and undiscovered for a month is unbelievable, let alone decades or centuries.<br /><br />It's really a shame - this could have been so much more if it had been written plausibly, i.e., giving the main characters the level of common sense they would have needed to get by for so long.<br /><br />Other than that, not a bad showing. I loved the bit at the end where every cat in town converges on the house - every time I put out food on the porch and see our cats suddenly rush in from wherever they were before, I think of that scene.\",\n",
            "       b'\"Emma\" was a product of what might be called by the First Great Jane Austen Cycle of the mid-nineties, and it was recently shown on British television, doubtless because of the interest in the author created by the Second Great Jane Austen Cycle which started with \"Pride and Prejudice\" two years ago. We currently have in the cinemas the Austen biopic \"Becoming Jane\", and ITV have recently produced three TV movies based on Austen novels. These include \"Northanger Abbey\", the only one of the six major novels not to have been filmed previously, so the cycle should now be complete. No doubt, however, there will be more to come in the near future. (There is, after all, her juvenile \"Love and Freindship\" (sic), the short novella \"Lady Susan\", and someone, somewhere, has doubtless supplied endings to her two unfinished fragments \"The Watsons\" and \"Sanditon\". Then there are all those Austen sequels churned out by modern writers\\xc2\\x85\\xc2\\x85\\xc2\\x85).<br /><br />The main character is Emma Woodhouse, a young lady from an aristocratic family in Regency England. (Not, as some reviewers have assumed, Victorian England- Austen died before Queen Victoria was even born). Emma is, financially, considerably better off than most Austen heroines such as Elizabeth Bennett or Fanny Price, and has no need to find herself a wealthy husband. Instead, her main preoccupation seems to be finding husbands for her friends. She persuades her friend Harriet to turn down a proposal of marriage from a young farmer, Robert Martin, believing that Harriet should be setting her sights on the ambitious clergyman Mr Elton. This scheme goes disastrously wrong, however, as Elton has no interest in Harriet, but has fallen in love with Emma herself. The speed with which Emma rejects his proposal makes one wonder just why she was so keen to match her friend with a man she regards (with good reason) as an unsuitable marriage partner for herself. This being a Jane Austen plot, Emma turns out to be less of a committed spinster than she seems, and she too finds herself falling in love, leading to further complications.<br /><br />Emma always insists that she will not marry without affection, and when she does find a partner, the handsome Mr Knightley, we feel that this will indeed be an affectionate marriage. It does not, however, seem likely to be a very passionate one (unlike, say, that of Elizabeth Bennett and Mr Darcy). Knightley, who is sixteen years older than Emma (she is 21, he 37), and related to her by marriage, is more like a father-figure than a lover. Much more of a father-figure, in fact, than her actual father, a querulous and selfish old hypochondriac who seems more like her grandfather. When Emma is rude to her unbearably garrulous and tedious friend Miss Bates, it is Knightley who chides her for her lack of manners. (His surname is probably meant to indicate his gentlemanly nature- nineteenth-century gentlemen liked to think of themselves as the modern equivalent of mediaeval knights with their elaborate codes of chivalry). Both Gwyneth Paltrow and Jeremy Northam play their parts very well, but this is not really one of the great screen romances.<br /><br />Of the other characters, I liked Juliet Stephenson\\'s vulgar Mrs Elton and Toni Collette\\'s Harriet. I know that in the novel Harriet was a na\\xc3\\xafve young teenager, whereas here she is more like the character Collette played in \"Muriel\\'s Wedding\"- a gauche, slightly overweight twentysomething, fretting about her chances of finding a man. Nevertheless, I felt that this characterisation worked well in the context of the film and did not detract from Austen\\'s themes.<br /><br />\"Emma\" is one of Austen\\'s more light-hearted works, without the darker overtones of \"Mansfield Park\" or even \"Pride and Prejudice\", and this is reflected on screen. We see a world of beauty and grace, full of stately homes and elegant costumes and fine manners. Apart from the ruffianly gypsies, who make a very brief appearance, the only \"poor\" people we see are Mrs Bates and her daughter, and, as they live in the sort of picturesque rose-strewn thatched cottage which today would change hands for over \\xc2\\xa3500,000, we can be sure that their poverty is relative, not absolute. In Emma\\'s world, poverty is defined as not having your own stately home. This is, of course, not a comprehensive picture of early nineteenth-century life, but nobody has ever claimed Austen as the Regency equivalent of a kitchen-sink realist. Sophisticated romantic comedy, combined with a keen eye for analysing human character, was more in her line.<br /><br />I would not rate this film quite as highly as the 1994 \"Sense and Sensibility\" or the recent \"Pride and Prejudice\"- it tends to drag a bit in the middle, although it has a strong beginning and strong ending- but it is, in the main, a highly enjoyable Austen adaptation. 7/10',\n",
            "       b\"I am shocked. Shocked and dismayed that the 428 of you IMDB users who voted before me have not given this film a rating of higher than 7. 7?!?? - that's a C!. If I could give FOBH a 20, I'd gladly do it. This film ranks high atop the pantheon of modern comedy, alongside Half Baked and Mallrats, as one of the most hilarious films of all time. If you know _anything_ about rap music - YOU MUST SEE THIS!! If you know nothing about rap music - learn something!, and then see this! Comparisons to 'Spinal Tap' fail to appreciate the inspired genius of this unique film. If you liked Bob Roberts, you'll love this. Watch it and vote it a 10!\",\n",
            "       b\"Children love dinosaurs. It's somewhat part of their culture. But they've got The Land Before Time. The original. At least that movie had heart. This. This movie is just plain pathetic. Just because kids love dinosaurs doesn't mean you can just slap together any old story and show it to the children. This movie has no plot, the whole premise is stupid, and it's more by the numbers stuff. Not as soul sucking as Theodore Rex, but it's lightyears away from being a Land Before Time.\",\n",
            "       b\"The 60\\xc2\\xb4s is a well balanced mini series between historical facts and a good plot. In four deliveries, we follow a north American family, with 3 members. But we don't only see them. We also follow the story of several characters as a black reverend, an extremist student leader, and a soldier in Vietnam. The filmography is just extraordinary. In the first chapters, we see some shots of the Vietnam war, in between the scenes. The next chapter, doesn't start where the last one finished, it starts some time after, giving us a little mystery on what happened. In general, The 60\\xc2\\xb4s mini series, is a must see, not only for hippies fanatics, but for everyone with little curiosity about the topic.\",\n",
            "       b'I have no idea what idiots gave this movie a Palm D\\'Or at the 1999 Cannes Film Festival because it was atrocious! I actually watched the entire thing simply because I couldn\\'t believe that someone would make such a worthless film. There is nothing interesting about the plot, the characters are devoid of depth and there is no attempt at giving any sort of ambiance with music or sound effects. Also, if you do decide to waste 2 hours of your life by watching this film, be sure to bring something to throw up in because the cinematography is simply someone running around with a hand-held camcorder and half the time you can\\'t even see the main subjects. This style has been used much more successfully in movies such as \"Blair Witch\" because it creates suspense. In Rosetta, there is no plot and no suspense to which that style would lend anything. I should have known better when it came on at 2 o\\'clock in the morning that it was going to be horrible.',\n",
            "       b'This film is not even worth walking to the movie theatre. No jokes, but stupid and boring laughing on repeated disgusting stuff. The music and the girls are great, unfortunately you have to watch the whole movie to enjoy them. It was weak, very very weak.',\n",
            "       b'I am a huge fan of Simon Pegg and have watched plenty of his movies until now and none of them have ceased to make me laugh. Neither did How to lose friends and Alienate People.<br /><br />This movie is essentially about a man good as pissing people off. However, he has an innate set of ethics that prevents him from doing things that might just make him famous. But in the end he ends up doing them, the culture of life.<br /><br />The movie is well toned with humor, romance, good acting and also a bit of a lap dance. Its one of those movies where you could just be happy when it ends.',\n",
            "       b\"I agree with the previous comment, what a disappointment. Rented it thinking it was going to be a good movie since Mira and Olivier where in it. I was surprised by their performance, expected more since they're good actors.<br /><br />Thought it was a slow beginning but it got worse. I even laughed at some bad stunts!! when is supposed to be a mystery movie. You can even guess who is the killer beforehand!!! <br /><br />For real what happened?? <br /><br />Sorry to say but don't even bother you'll waste time and money.<br /><br />Boring!!!\",\n",
            "       b\"Flat, ordinary thriller about a conniving woman who deceives all those she supposedly loves in order to boost her bank account. Nicole Kidman plays the deceptive Tracey, married to the doting Andy (Bill Pullman). When an old school friend of Andy's named Jed Hill (Alec Baldwin) turns up as the resident surgeon, trouble is not far behind him.<br /><br />Script fails in that it does not carefully develop the promising premise into an effective, tantalising thriller, and the severe lack of character motivation, background and development leaves the whole show reaching. None of the cast are able to generate interest in their shallow characters, especially Bill Pullman, whose own inexplicably curious Andy is impossible to believe.<br /><br />Poor director Harold Becker is left trying to resurrect an impossibly dead project, and is unable to make entertainment from any of it. By the time the 'secret' of the plot is revealed, you just won't care.<br /><br />At least the cinematography has Massachusetts looking good. Also stars George C. Scott, Peter Gallagher and Josef Sommer.<br /><br />Sunday, February 25, 1996 - T.V.\",\n",
            "       b\"I pity people calling kamal hassan 'ulaganaayakan' maybe for them ulagam is tollywood ! comeon guys..this movie is a thriller without thrill..<br /><br />come out of your ulagam and just watch some high class thrillers like The Usual Suspects or even The Silence of the Lambs.<br /><br />technically good but style over substance kamal doesn't look like a police officer, there is no thrill whatsoever dragging and boring till end you might be saving 3 valuable hrs of your life if u skip watching this movie.<br /><br />kamal at his best is the best in tollywood\",\n",
            "       b'I saw the description of the movie on TCM and only let it run because I like both Peter Ustinov and Maggie Smith, so I was delightfully surprised to find that I really liked the movie and found it quite exceptional. Of course, it is seriously dated, but as a period piece it is well worth watching just for the subtle humour in insight into life and lifestyle almost forty years ago. Now the only problem is trying to find it on DVD so I can watch it more often. I also was quite taken with the performances of Smith and Ustinov as the leads, and of Karl Malden, Bob Newhart, and the cameo appearances by Robert Morley and Cesar Romero.',\n",
            "       b'Ah, noir. My favourite genre. Otto Preminger\\'s follow-up to \"Laura\" is a film noir set in a postwar New York, where corruption and violence run rampant. It stars Dana Andrews as Sergeant Mark Dixon, a detective whose brutal tactics have landed him in hot water with his superiors. <br /><br />When he accidentally kills a murder suspect, Dixon tries to pin the blame on crime boss Tommy Scalese. Dixon is close to achieving his goal when he becomes involved with the dead man\\'s wife, the beautiful Morgan Taylor. Of course, in typical noir fashion, things quickly go down hill.<br /><br />While the film does nothing interesting camera or narrative wise, it does have a constant tone of dread and gloom. Like most great noirs, it is also wonderfully paced, sucking the viewer in right from the start.<br /><br />Still, like most of Preminger\\'s workmanlike films, it\\'s not something I\\'d watch again. It lacks the verbal wit of Wilder, the visual flamboyance of Hitchcock or the spatial experimentation of Welles. Like Lang\\'s later work, \"Sidewalk\" feels very much a \"clone\" of what a noir should be, instead of something really artistically genuine. <br /><br />Thematically the film is nothing special. It\\'s about a cop who finds himself slowly becoming a criminal. In one scene Dixon explains that his father himself was a small time crook, the film flirting with the notion of predestination, but this one scene is as far as Otto goes, or dares to take his ideas.<br /><br />The camera work is likewise disappointing. There\\'s no intelligence in Otto\\'s camera. No effort is made to assign the camera to anything. It doesn\\'t play with space or architecture or empahsise the step-by-step police procedural. It\\'s just tripod set ups with the occasional dolly in and out. Meaningless, though most people don\\'t care about these things. <br /><br />There is, however, one good shot where our hero is trapped in a car full of gangsters (noir cage) which itself enters a vehicle-lift (another cage) and is taken up into the chief gangster\\'s lair. Like Lynch\\'s \"Blue Velvet\", Otto retopologizes the film, constantly likens \"upstairs\" to hell. This works well, but the set design fails to reinforce it. <br /><br />7/10 - Otto seems content to follow the Hawksian mould of what a noir is, rather than toy with the possibilities of where noir can go. Like \"Detour\", \"Night in the City\", \"Scarlet Street\", \"In A Lonely Place\", \"Act of Violence\", \"Bomberang\" and \"Johnny Eager\", \"Where the Sidewalk Ends\" is one of those well made second tier film noirs. It\\'s competent and engaging, but lacks that extra special magic.',\n",
            "       b'I saw this movie way back at the first theatrical release, in a justifiably empty theater. Believe it or not, after decades of watching movies, this one still sticks clearly in my mind as the worst movie of all time; or at least the worst that I would allow myself to watch.<br /><br />The acting is far beneath the standard set by any random group of drunken high-school students yanked off the street and forced to learn their lines in 5 minutes or less.<br /><br />After the first shock of disbelief, we laughed for a while as each scene hit new lows. But after a while, even that dubious pleasure wore off and it just got to be really sad.',\n",
            "       b\"Okay, let's face it. this is a god-awful movie. The plot (such as it is) is horrible, the acting worse. But the movie was made for one reason and one reason only, like all of those awful Mario Lanza movies...just to hear the voice of the star, in this case Pavarotti in his prime. Okay, so maybe the Lanza movies were also an excuse for him to hit on women, but this movie is about hearing Luciano. That alone is worth watching the movie. A big opera star stuck on himself faces his fears, finds humility and love along the way, and belts out a lot of hit numbers, too.<br /><br />I must admit I'm prejudiced on a number of levels. I'm Italian. I'm a big Pavarotti fan (is there anything about Pavarotti that isn't big, including his fan base?). And when I first saw this movie I was going out on my own, seeing the height and depth of Life's possibilities and in love for the first time. So as awful as this movie is, the beautiful voice and memories are enough to make me breathe deep of life and love again.<br /><br />Yes, it's corny and awful. But the voice is immortal and timeless, and the voice is what it's all about. So I give this movie a high rating in hopes that someone who has never heard Pavarotti before will listen and watch and enjoy a new level of music and love, especially since he is now gone. Like Italian food that you've never tried before, try it! You may be pleasantly surprised, as a Luciano lover or prospective Pavarotti peep.\",\n",
            "       b\"This is widely viewed in Australia as one of the best cop dramas ever produced here ... and for my money, anywhere. It's raw, gritty, the characters are real, the situations are believable and it doesn't shy away from the darker side of life confronted every day by cops and the criminals, victims, lawyers and other people in their various orbits.<br /><br />This show ran for 2 seasons and was discontinued because the show didn't sell well overseas. We are all sorry for its loss: however, like Fawlty Towers, we will be able to revere this as a limited-length series of uniformly high quality.\",\n",
            "       b'What a lovely heart warming television movie. The story tells of a little five year old girl who has lost her daddy and finds it impossible to cope. Her mother is also very distressed ..only a miracle can alleviate their unhappiness.Which all viewers hope will materialise. Samantha Mathis is brilliant as the little girl\\'s mum ,as she was as the nanny in\" Jack and Sarah\",worth watching if you like both Samantha Mathis and happy; year tear jerking movies! Ellen Burstyn is, as, always a delightful grandmother in this tender and magnificently acted movie. Jodelle Ferland (the little five year old) is charming and a most convincing young actress. The film is based on a true story which makes it so touching.\"Mermaid\" is a tribute to the milk of human kindness which is clearly illustrated and clearly is still all around us in this difficult world we live in. \"Mermaid\" gives us all hope ,by realising that there a lot of lovely people in the world with lot\\'s of love to give. James Robson Glasgow Scotland U.K.',\n",
            "       b\"This is comedy as it once was and comparing this with the two remakes, THE MONEY PIT and ARE WE DONE YET?, only points out all the more how the 40's movie makers had a flair for comedy which has since, regretfully, been lost.<br /><br />I was 15 when I first saw this and even at that tender age, there was much I could laugh at. Now of course being familiar with adult frustrations, I see a whole lot that I missed as a youth.<br /><br />The three main actors...Cary Grant, Myrna Loy, and Melvyn Douglas...interacted perfectly, but the core of the movie lies in the frustrations encountered in achieving a dream. It's never as easy and free of unseen complications as one envisions.<br /><br />All in all, this is a classic comedy which still stands above the attempts to remake it.\",\n",
            "       b'I thought Rachel York was fantastic as \"Lucy.\" I have seen her in \"Kiss Me, Kate\" and \"Victor/Victoria,\" as well, and in each of these performances she has developed very different, and very real, characterizations. She is a chameleon who can play (and sing) anything!<br /><br />I am very surprised at how many negative reviews appear here regarding Rachel\\'s performance in \"Lucy.\" Even some bonafide TV and entertainment critics seem to have missed the point of her portrayal. So many people have focused on the fact that Rachel doesn\\'t really look like Lucy. My response to that is, \"So what?\" I wasn\\'t looking for a superficial impersonation of Lucy. I wanted to know more about the real woman behind the clown. And Rachel certainly gave us that, in great depth. I also didn\\'t want to see someone simply \"doing\" classic Lucy routines. Therefore I was very pleased with the decision by the producers and director to have Rachel portray Lucy in rehearsal for the most memorable of these skits - Vitameatavegamin and The Candy Factory. (It seems that some of the reviewers didn\\'t realize that these two scenes were meant to be rehearsal sequences and not the actual skits). This approach, I thought, gave an innovative twist to sketches that so many of us know by heart. I also thought Rachel was terrifically fresh and funny in these scenes. And she absolutely nailed the routines that were recreated - the Professor and the Grape Stomping, in particular. There was one moment in the Grape scene where the corner of Rachel\\'s mouth had the exact little upturn that I remember Lucy having. I couldn\\'t believe she was able to capture that - and so naturally.<br /><br />I wonder if many of the folks who criticized the performance were expecting to see the Lucille Ball of \"I Love Lucy\" throughout the entire movie. After all, those of us who came to know her only through TV would not have any idea what Lucy was really like in her early movie years. I think Rachel showed a natural progression in the character that was brilliant. She planted all the right seeds for us to see the clown just waiting to emerge, given the right set of circumstances. Lucy didn\\'t fit the mold of the old studio system. In her frustrated attempts to become the stereotypical movie star of that era, she kept repressing what would prove to be her ultimate gifts.<br /><br />I believe that Rachel deftly captured the comedy, drama, wit, sadness, anger, passion, love, ambition, loyalty, sexiness, self absorption, childishness, and stoicism all rolled into one complex American icon. And she did it with an authenticity and freshness that was totally endearing. \"Lucy\" was a star turn for Rachel York. I hope it brings a flood of great roles her way in the future. I also hope it brings her an Emmy.',\n",
            "       b'<br /><br />Ok, well I rented this movie while I was bed ridden hopped up on pain killers, and let me say, It didn\\'t help the film any.<br /><br />The film is about a man who buys a car as he is going through a midlife crisis, he loves the car more than anything around him, one day his wife decides to borrow the car. Since I don\\'t want to spoil (not that there was anything to spoil) I shall let your imagination figure out the \"Zany\" (and I use that word lightly) antics that follow.<br /><br />I had to fight to stay awake through this snore a minute sleeper of a film, and I would like to say that if you are venturing to the movie store and are thinking about being adventurous, please don\\'t, it\\'s a waste of the film it was printed on.<br /><br />Then again I could be wrong...',\n",
            "       b\"For me, this movie just seemed to fall on its face. The main problem for me was the casting of Glover as a serial killer. I don't know whether this grows out of type-casting or simply his demeanor, but I doubt Glover could ever portray a convincing villain. He's a good guy, and that's always obvious in his performances. Other than that the film is your run of the mill serial killer story. Nothing very innovative .\",\n",
            "       b'Literally every aspect of this science-fiction low-budget flick falls under the categories that have been classified for its predecessors, contemporaries, and those to follow. Bad special effects, a weak storyline, ridiculous amounts of blood and gore, annoying and pointless characters, all that you can expect. \"Attack of the Sabretooth\" is about a new vacation resort where the proprietors are genetically engineering Smilodon cats for an attraction. The cats escape and begin to kill people, the guy running the show wants to save them and not warn the unsuspecting visitors about them, and there is a band of visitors and some employees who rebel and plan to kill the cats.<br /><br />Special effects-wise, the film is about an average achievement given its budget. The sabretooths are portrayed through poor CGI. Amazingly, though, the cats look more realistic in an up-close, detailed shot rather than the longer, more distant shots where the CGI is better concealed. Their attacks are recklessly bloody and distasteful. Just as you\\'d expect, they attack, rip off some arms and legs, and leave very little behind. This is part of the reason why the film descends into poor schlock.<br /><br />The plot and characters are just as horrendous. We have some college kids who come to the island and they plan a scavenger hunt. And take it very, VERY seriously. Even so much as to trespass on private property, tamper with security systems, and steal. Why are they taking a simple game so seriously? Did I miss something? Was there money involved? Or were they sent to do it? I don\\'t know, I could barely follow the film. But it seemed to me like they were just doing it for the fun of doing it. Even so, they went too far for normal.<br /><br />\"Attack of the Sabretooth\" is a very poor film. Even for a low-budget sci-fi flick, it is a very poor and cheap example. It will bore most viewers to tears, might be attractive for some, and will make you chuckle and laugh all the way through. And keep in mind, this is not a comedy, this is a cheap horror flick, so it\\'s not suppose to be comical.',\n",
            "       b\"This seems like two films: one a dreary, pretentious lengthy saga about an ac-tor who is taken over by the parts he plays; the other a brilliant social comment about a middle aged divorce who is picked up by a waitress. Shelley Winters is wonderful as a waitress with another business on the side. She drops heavy hints about the need for connections, her certificate in massage and her desire to get into the modelling game. I love the glimpse of her seedy flat with a kitchenette behind a curtain, and her terrible seducing outfit of navel-revealing, puff-sleeved crochet top.<br /><br />Do actors get Oscars for Shakespeare? We know they Oscars for impersonating disabled people, wearing a lot of prosthetics, or pretending to be mad. The Shakespearean scenes (which go ON and ON) are embarrassing and dated. And so are the 'going mad' scenes where Tony looks distracted while listening to his own voice-over.<br /><br />By the way, Anthony John is not aristocratic. He makes it quite clear in an early scene that he used to be a chorus boy. When he quotes his father's advice, he slips into a Cockney accent.\",\n",
            "       b'What an entertaining movie. Astaire and Randolph Scott are in the Navy. Astaire has to woo back Ginger in San Francisco, while Scott must be persuaded that Harriet Hilliard is worthy of being his wife. Everything works out fine.<br /><br />It\\'s sometimes argued, and I can see why, that Scott\\'s romance with Hilliard is unnecessary and slows the plot down. Especially painful are Hilliard\\'s singing of sappy love songs. I could have done without her singing, right enough, but I found the romance rather touching. Hilliard enters the movie as a music teacher, wearing a pair of spectacles, no makeup, and the ugliest clothes known to man or beast. No wonder Scott avoids her until she grooms herself sexily under the tutelage of her sister Ginger and a slinky Lucille Ball. The problem is that AFTER her makeover she looks like the same irretrievably plain woman as before, only with a glossier outfit. It\\'s tough enough for a homely guy. But at least a man can become wealthy and powerful and popular, then he can collect women anyway, even if he looks like JoJo the Dog-Faced Boy. But what does a plain-looking woman do? The same avenues to romance aren\\'t open to her. Henry Kissinger had groupies. Did Margaret Thatcher? It must be terrible to be an ordinary woman in a culture as cruel as ours. As a kind of a footnote, I must mention that Randolph Scott was rumored to be bisexual by Hollywood gossips who needed some nonsense to chew on, and it\\'s kind of amusing that he has the following line in this film when he\\'s putting homely Hilliard off -- \"Women don\\'t interest me, sister.\" The movie probably gives more quality time to Ginger Rogers than any of her other films with Astaire. And she\\'s marvelous. She\\'s beautiful, sexy, a talented actress and dancer, and the script gives her good comic lines too. \"Let\\'s kiss and make up,\" suggests Astaire. \"Let\\'s just make up,\" she says, \"that will give you something to work on.\" It\\'s also the only film she made with Astaire that gives her a solo number during an audition. (Choreographed by Hermes Pan.) Her performance is accidentally sabotaged by Astaire who slips some Alka Seltzer or something into her water, and she hiccups through her number, burping being too indelicate for the time.<br /><br />As a dancer, I\\'d make a terrific circus elephant so my opinion must be taken as that of an amateur, but I think their dances together are the equal of any they put on film. Their first, during a dancing contest, \"Let Yourself Go,\" is the most wildly exuberant of any I can remember. And the only dramatic duet, \"Let\\'s Face the Music and Dance,\" must be among their finest. The last step as they exit is startling.<br /><br />I like the film for reasons with personal resonance. I remember seeing it for the first time in a theater in downtown San Diego, next to a shop called \"The Seven Seas\" that catered to sailors. I was in uniform at the time and was impressed with the treatment of the naval careers of Astaire and Scott. What I mean is, here we have this frothy musical comedy which owed absolutely nothing to historical reality, and yet, unlike most of their other teamings, pays its dues anyway. Jumping ship, Astaire calls out for a \"water taxi.\" I had just taken a water taxi ashore myself. The uniforms are correct to the period (unlike, say, those in \"On the Town\"). And they\\'re worn properly, hats down to two finger-widths above the eyebrow and not cocked back. And there are two incidents in which Astaire runs into a problem with naval authorities and they\\'re both handled with perfect seriousness and are thoroughly believable. An officer stops Astaire from leading a jazz band during inspection and reports to the captain, \"They were playing when the call was sounded, sir. I\\'m certain no breach of discipline was intended.\" It\\'s what an officer -- a good officer -- would say, and nobody laughs.<br /><br />The series was getting a little repetitious by the time \"Follow the Fleet\" was made so instead of putting Fred into high society and a tuxedo, they turned him into a gum-chewing swabbie instead. It was a good idea. And the dance numbers are up to the concept.',\n",
            "       b'Best Stephen King film alongside IT, though this one is more fun than scary. <br /><br />This one\\'s got it all: <br /><br />-a great cast with a Alice Krige and Brian Krause and a fun cameo from King himself;<br /><br />-well dosed horror in an amusing storyline;<br /><br />-great use of music, Santo & Johnny\\'s \"Sleepwalk\" in particular;<br /><br />-likeable characters in a typical King setting: middle of nowhere village;<br /><br />-lots of humor. You can\\'t really get good scares here because it\\'s too much fun and over the top;<br /><br />-old but really nice makeup effects like they don\\'t make anymore!<br /><br />A 4,5 rating: I don\\'t get it really. When was the last time a horror film was as much fun as this one?',\n",
            "       b'There are very few movies that are so funny as this one. I was lucky enough to watch this movie at a theater \"reserved\" for movie buffs like me, so it was not so embarrassing sitting there laughing till my jaw was completely sore and my shirt sleeves were all wet from drying my eyes...<br /><br />At times the story was a bit \"slow\", but that is perhaps for the best - a bit of rest in-between the rolling amongst the aisles (I nearly fell out of the seat...) was most welcome.',\n",
            "       b'The beginning of this movie is excellent with tremendous sound and some nice humor, but once the film changes into animation it quickly loses its appeal.<br /><br />One of the reasons that was so, at least for me, was that the colors in much of the animation are too muted, with too little contrast. It doesn\\'t look good, at least on VHS. Once in a while it breaks out and looks great, but not often Also, the characters come and go too quickly. For example, I would have liked to have seen more of \"Moby Dick.\" When the film starts to drag, however, it picks up again with the entrance of the dragon and then the film finishes strong. <br /><br />Overall, just not memorable enough or able to compete with the great animated films of the last dozen years.',\n",
            "       b\"The 1960's were a time of change and awakening for most people. Social upheaval and unrest were commonplace as people spoke-out about their views. Racial tensions, politics, the Vietnam War, sexual promiscuity, and drug use were all part of the daily fabric, and the daily news. This film attempted to encapsulate these historical aspects into an entertaining movie, and largely succeeded.<br /><br />In this film, two families are followed: one white, one black. During the first half of the film, the story follows each family on a equal basis through social and family struggles. Unfortunately, the second half of the movie is nearly dedicated to the white family. Admittedly, there are more characters in this family, and the story lines are intermingled, but equal consideration is not given to the racial aspects of this century.<br /><br />On the whole, the acting is well done and historical footage is mixed with color and black and white original footage to give a documentary feel to the movie. The movie is a work of fiction, but clips of well-known historical figures are used to set the time-line.<br /><br />I enjoyed the movie but the situations were predictable and the storyline was one-sided.\",\n",
            "       b\"Billy Crystal normally brings the crowd to laughter, but in this movie he and all the rest of them cannot bring any smile on my face.... or perhaps just one. They call it comedy, I say it's a waste of my time.\"],\n",
            "      dtype=object)>, <tf.Tensor: shape=(32,), dtype=int32, numpy=\n",
            "array([0, 0, 1, 0, 1, 1, 0, 1, 0, 0, 1, 0, 0, 0, 1, 1, 0, 1, 1, 1, 1, 1,\n",
            "       0, 0, 0, 0, 1, 1, 1, 0, 0, 0], dtype=int32)>)]\n"
          ]
        }
      ]
    },
    {
      "cell_type": "code",
      "source": [
        "raw_train_ds.element_spec # This shows that we have two tensors. The first is comments and the second is labels (+-)\n",
        ""
      ],
      "metadata": {
        "colab": {
          "base_uri": "https://localhost:8080/"
        },
        "id": "r4_AH0Ik2cIK",
        "outputId": "9bb69d23-5d99-4c6d-a0cf-a5fba7a9076d"
      },
      "execution_count": 15,
      "outputs": [
        {
          "output_type": "execute_result",
          "data": {
            "text/plain": [
              "(TensorSpec(shape=(None,), dtype=tf.string, name=None),\n",
              " TensorSpec(shape=(None,), dtype=tf.int32, name=None))"
            ]
          },
          "metadata": {},
          "execution_count": 15
        }
      ]
    },
    {
      "cell_type": "markdown",
      "source": [
        "### also shape is none --> for batch size\n",
        "This always indicates the presence of bath size.\n",
        "Important note: Because we have to send two values ​​to use embedding(batch & lengh ). We add a dim to the tensor using the 'expand_dim' method"
      ],
      "metadata": {
        "id": "AqAW-Y746tbe"
      }
    },
    {
      "cell_type": "markdown",
      "source": [
        "# standardization text by regex"
      ],
      "metadata": {
        "id": "C5V2MS0988wY"
      }
    },
    {
      "cell_type": "code",
      "source": [
        "def custom_standardization(input_data):\n",
        "  lowercase = tf.strings.lower(input_data) # convert to lowercase\n",
        "  stripped_html = tf.strings.regex_replace(lowercase, '<br />', ' ') # replace <br /> tag with space\n",
        "  return tf.strings.regex_replace(stripped_html,'[%s]' % re.escape(string.punctuation),'') # remove punctuations"
      ],
      "metadata": {
        "id": "RyPNIw2q3YiZ"
      },
      "execution_count": 17,
      "outputs": []
    },
    {
      "cell_type": "code",
      "source": [
        "max_features = 10000\n",
        "max_len = 250  # max number of words in a comment  # padding to max_len\n",
        "vectorization_layer = layers.TextVectorization(standardize=custom_standardization,max_tokens=max_features,output_mode='int',output_sequence_length=max_len)\n",
        "vectorization_layer.adapt(raw_train_ds.map(lambda x, y: x)) # for remove labels and return only comments"
      ],
      "metadata": {
        "id": "Atvx9gzA943W"
      },
      "execution_count": 21,
      "outputs": []
    },
    {
      "cell_type": "markdown",
      "source": [
        "## adding dim"
      ],
      "metadata": {
        "id": "N7HBuJRvAQWs"
      }
    },
    {
      "cell_type": "code",
      "source": [
        "def vectorize_text(text, label):\n",
        "  text = tf.expand_dims(text, -1)\n",
        "  return vectorization_layer(text), label"
      ],
      "metadata": {
        "id": "ORySpPvH-v4a"
      },
      "execution_count": 22,
      "outputs": []
    },
    {
      "cell_type": "code",
      "source": [
        "# text_batch, label_batch = next(iter(raw_train_ds))\n",
        "# first_rewiew, first_label = text_batch[0], label_batch[0]\n",
        "\n",
        "# print(\"Review\", first_rewiew)\n",
        "# print(\"Label\", raw_train_ds.class_names[first_label])\n",
        "# print(\"Vectorized review\", vectorize_text(first_rewiew, first_label))"
      ],
      "metadata": {
        "colab": {
          "base_uri": "https://localhost:8080/"
        },
        "id": "J4IqfQI_A24V",
        "outputId": "dec1bc28-8fde-4ca5-e9a4-a4dd76302015"
      },
      "execution_count": 23,
      "outputs": [
        {
          "output_type": "stream",
          "name": "stdout",
          "text": [
            "Review tf.Tensor(b\"The idea ia a very short film with a lot of information. Interesting, entertaining and leaves the viewer wanting more. The producer has produced a short film of excellent quality that cannot be compared to any other short film that I have seen. I have rated this film at the highest possible rating. I also recommend that it is shown to office managers and business people in any establishment. What comes out of it is the fact that people with ideas are never listened to, their voice is never heard. It is a lesson to be learned by any office that wants to go forward. I hope that the produced will produce a second part to this 'idea'. I look forward to viewing the sequence. Once again congrats to Halaqah media in producing a film of excellence and quality with a lesson in mind.\", shape=(), dtype=string)\n",
            "Label pos\n",
            "Vectorized review (<tf.Tensor: shape=(1, 250), dtype=int64, numpy=\n",
            "array([[   2,  314,    1,    4,   52,  350,   19,   16,    4,  171,    5,\n",
            "        1574,  217,  424,    3,  874,    2,  508, 1733,   50,    2, 1486,\n",
            "          43, 1118,    4,  350,   19,    5,  304,  490,   12,  541,   26,\n",
            "        1034,    6,   97,   78,  350,   19,   12,   10,   25,  105,   10,\n",
            "          25, 1386,   11,   19,   31,    2, 3887,  611,  693,   10,   77,\n",
            "         367,   12,    9,    7,  581,    6, 1104,    1,    3,  956,   79,\n",
            "           8,   97, 9355,   48,  255,   44,    5,    9,    7,    2,  186,\n",
            "          12,   79,   16,  978,   23,  110, 7775,    6,   64,  572,    7,\n",
            "         110,  548,    9,    7,    4, 1984,    6,   26, 2031,   32,   97,\n",
            "        1104,   12,  475,    6,  137,  970,   10,  422,   12,    2, 1118,\n",
            "          76, 2122,    4,  333,  170,    6,   11,  314,   10,  162,  970,\n",
            "           6,  823,    2,  716,  272,  169,    1,    6,    1, 1744,    8,\n",
            "        3761,    4,   19,    5, 7800,    3,  490,   16,    4, 1984,    8,\n",
            "         339,    0,    0,    0,    0,    0,    0,    0,    0,    0,    0,\n",
            "           0,    0,    0,    0,    0,    0,    0,    0,    0,    0,    0,\n",
            "           0,    0,    0,    0,    0,    0,    0,    0,    0,    0,    0,\n",
            "           0,    0,    0,    0,    0,    0,    0,    0,    0,    0,    0,\n",
            "           0,    0,    0,    0,    0,    0,    0,    0,    0,    0,    0,\n",
            "           0,    0,    0,    0,    0,    0,    0,    0,    0,    0,    0,\n",
            "           0,    0,    0,    0,    0,    0,    0,    0,    0,    0,    0,\n",
            "           0,    0,    0,    0,    0,    0,    0,    0,    0,    0,    0,\n",
            "           0,    0,    0,    0,    0,    0,    0,    0,    0,    0,    0,\n",
            "           0,    0,    0,    0,    0,    0,    0,    0]])>, <tf.Tensor: shape=(), dtype=int32, numpy=1>)\n"
          ]
        }
      ]
    },
    {
      "cell_type": "code",
      "source": [
        "train_ds = raw_train_ds.map(vectorize_text)\n",
        "val_ds = raw_val_ds.map(vectorize_text)\n",
        "test_ds = raw_test_ds.map(vectorize_text)"
      ],
      "metadata": {
        "id": "00J_mBw9BGkt"
      },
      "execution_count": 24,
      "outputs": []
    },
    {
      "cell_type": "code",
      "source": [
        "model = tf.keras.Sequential([\n",
        "    layers.Embedding(max_features + 1, 16), # 16 is the embedding dimension # +1 for unknown words\n",
        "    layers.Dropout(0.2), # dropout to avoid overfitting ,randomly drop 20% of the input units\n",
        "    layers.GlobalAveragePooling1D(), # average pooling to reduce the dimensionality of the output\n",
        "    layers.Dropout(0.2),\n",
        "    layers.Dense(1)])"
      ],
      "metadata": {
        "id": "V26yiKSwHjsJ"
      },
      "execution_count": 26,
      "outputs": []
    },
    {
      "cell_type": "code",
      "source": [
        "model.compile(loss=tf.keras.losses.BinaryCrossentropy(from_logits=True),optimizer='adam',metrics=[tf.metrics.BinaryAccuracy(threshold=0.0)])\n",
        "model.fit(train_ds,validation_data=val_ds,epochs=10)"
      ],
      "metadata": {
        "colab": {
          "base_uri": "https://localhost:8080/"
        },
        "id": "oH_tt190IVVd",
        "outputId": "ad7b8e1d-ce37-4bf4-eb99-ac30c9b9318d"
      },
      "execution_count": 31,
      "outputs": [
        {
          "output_type": "stream",
          "name": "stdout",
          "text": [
            "Epoch 1/10\n",
            "\u001b[1m625/625\u001b[0m \u001b[32m━━━━━━━━━━━━━━━━━━━━\u001b[0m\u001b[37m\u001b[0m \u001b[1m10s\u001b[0m 12ms/step - binary_accuracy: 0.5822 - loss: 0.6829 - val_binary_accuracy: 0.7344 - val_loss: 0.6147\n",
            "Epoch 2/10\n",
            "\u001b[1m625/625\u001b[0m \u001b[32m━━━━━━━━━━━━━━━━━━━━\u001b[0m\u001b[37m\u001b[0m \u001b[1m10s\u001b[0m 12ms/step - binary_accuracy: 0.7538 - loss: 0.5825 - val_binary_accuracy: 0.8116 - val_loss: 0.4982\n",
            "Epoch 3/10\n",
            "\u001b[1m625/625\u001b[0m \u001b[32m━━━━━━━━━━━━━━━━━━━━\u001b[0m\u001b[37m\u001b[0m \u001b[1m9s\u001b[0m 14ms/step - binary_accuracy: 0.8163 - loss: 0.4707 - val_binary_accuracy: 0.8382 - val_loss: 0.4238\n",
            "Epoch 4/10\n",
            "\u001b[1m625/625\u001b[0m \u001b[32m━━━━━━━━━━━━━━━━━━━━\u001b[0m\u001b[37m\u001b[0m \u001b[1m8s\u001b[0m 12ms/step - binary_accuracy: 0.8477 - loss: 0.3992 - val_binary_accuracy: 0.8556 - val_loss: 0.3776\n",
            "Epoch 5/10\n",
            "\u001b[1m625/625\u001b[0m \u001b[32m━━━━━━━━━━━━━━━━━━━━\u001b[0m\u001b[37m\u001b[0m \u001b[1m10s\u001b[0m 12ms/step - binary_accuracy: 0.8648 - loss: 0.3529 - val_binary_accuracy: 0.8596 - val_loss: 0.3520\n",
            "Epoch 6/10\n",
            "\u001b[1m625/625\u001b[0m \u001b[32m━━━━━━━━━━━━━━━━━━━━\u001b[0m\u001b[37m\u001b[0m \u001b[1m8s\u001b[0m 13ms/step - binary_accuracy: 0.8786 - loss: 0.3168 - val_binary_accuracy: 0.8626 - val_loss: 0.3359\n",
            "Epoch 7/10\n",
            "\u001b[1m625/625\u001b[0m \u001b[32m━━━━━━━━━━━━━━━━━━━━\u001b[0m\u001b[37m\u001b[0m \u001b[1m11s\u001b[0m 14ms/step - binary_accuracy: 0.8881 - loss: 0.2942 - val_binary_accuracy: 0.8656 - val_loss: 0.3241\n",
            "Epoch 8/10\n",
            "\u001b[1m625/625\u001b[0m \u001b[32m━━━━━━━━━━━━━━━━━━━━\u001b[0m\u001b[37m\u001b[0m \u001b[1m8s\u001b[0m 12ms/step - binary_accuracy: 0.8963 - loss: 0.2738 - val_binary_accuracy: 0.8706 - val_loss: 0.3103\n",
            "Epoch 9/10\n",
            "\u001b[1m625/625\u001b[0m \u001b[32m━━━━━━━━━━━━━━━━━━━━\u001b[0m\u001b[37m\u001b[0m \u001b[1m9s\u001b[0m 14ms/step - binary_accuracy: 0.9016 - loss: 0.2598 - val_binary_accuracy: 0.8632 - val_loss: 0.3149\n",
            "Epoch 10/10\n",
            "\u001b[1m625/625\u001b[0m \u001b[32m━━━━━━━━━━━━━━━━━━━━\u001b[0m\u001b[37m\u001b[0m \u001b[1m8s\u001b[0m 13ms/step - binary_accuracy: 0.9094 - loss: 0.2423 - val_binary_accuracy: 0.8762 - val_loss: 0.2973\n"
          ]
        },
        {
          "output_type": "execute_result",
          "data": {
            "text/plain": [
              "<keras.src.callbacks.history.History at 0x7fe8d2cf0110>"
            ]
          },
          "metadata": {},
          "execution_count": 31
        }
      ]
    },
    {
      "cell_type": "code",
      "source": [
        "loss, accuracy = model.evaluate(test_ds)\n",
        "print(\"Loss: \", loss)\n",
        "print(\"Accuracy: \", accuracy)"
      ],
      "metadata": {
        "colab": {
          "base_uri": "https://localhost:8080/"
        },
        "id": "K7GWPqO4MKGW",
        "outputId": "3d610f01-da87-4469-e3b6-fa145619ea81"
      },
      "execution_count": 33,
      "outputs": [
        {
          "output_type": "stream",
          "name": "stdout",
          "text": [
            "\u001b[1m782/782\u001b[0m \u001b[32m━━━━━━━━━━━━━━━━━━━━\u001b[0m\u001b[37m\u001b[0m \u001b[1m12s\u001b[0m 15ms/step - binary_accuracy: 0.8691 - loss: 0.3195\n",
            "Loss:  0.31719687581062317\n",
            "Accuracy:  0.8702800273895264\n"
          ]
        }
      ]
    },
    {
      "cell_type": "code",
      "source": [
        "# If we want to add a new sentence to the model for prediction, it must be tokenized, so we will create a new model that will do this.\n",
        "export_model = tf.keras.Sequential([\n",
        "  vectorization_layer,\n",
        "  model,\n",
        "  layers.Activation('sigmoid')])"
      ],
      "metadata": {
        "id": "MX9_J1viKkJQ"
      },
      "execution_count": 34,
      "outputs": []
    },
    {
      "cell_type": "code",
      "source": [
        "export_model.compile(loss=tf.keras.losses.BinaryCrossentropy(from_logits=False), optimizer=\"adam\", metrics=['accuracy'])\n",
        "# not need to fit the model\n"
      ],
      "metadata": {
        "id": "tAcAe_y1Lk_6"
      },
      "execution_count": 39,
      "outputs": []
    },
    {
      "cell_type": "code",
      "source": [
        "examples = tf.constant([\"The movie was great!\", \"The movie was ok.\", \"The movie was terrible...\"])[:, tf.newaxis]\n",
        "export_model.predict(examples)"
      ],
      "metadata": {
        "colab": {
          "base_uri": "https://localhost:8080/"
        },
        "id": "c0JTrVhQNd_-",
        "outputId": "2bedc519-11be-462c-9ace-d277b68018df"
      },
      "execution_count": 41,
      "outputs": [
        {
          "output_type": "stream",
          "name": "stdout",
          "text": [
            "\u001b[1m1/1\u001b[0m \u001b[32m━━━━━━━━━━━━━━━━━━━━\u001b[0m\u001b[37m\u001b[0m \u001b[1m0s\u001b[0m 175ms/step\n"
          ]
        },
        {
          "output_type": "execute_result",
          "data": {
            "text/plain": [
              "array([[0.5727068 ],\n",
              "       [0.38789216],\n",
              "       [0.3000899 ]], dtype=float32)"
            ]
          },
          "metadata": {},
          "execution_count": 41
        }
      ]
    },
    {
      "cell_type": "code",
      "source": [],
      "metadata": {
        "id": "Vd3JMzSeNpgV"
      },
      "execution_count": null,
      "outputs": []
    }
  ]
}